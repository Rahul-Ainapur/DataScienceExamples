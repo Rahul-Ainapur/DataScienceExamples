{
 "cells": [
  {
   "cell_type": "markdown",
   "metadata": {
    "deletable": false,
    "editable": false,
    "nbgrader": {
     "grade": false,
     "locked": true,
     "solution": false
    }
   },
   "source": [
    "# `sklearn` \n",
    "\n",
    "**More model building with `sklearn`**\n",
    "\n",
    "## Project Contents\n",
    "\n",
    "-[The Full Data Science Process](#The-Full-Data-Science-Process)  \n",
    "-[Fitting Models in sklearn](#Fitting-Models-in-sklearn)  \n",
    "-[Fitting Your Own Model](#Fitting-Your-Own-Model)\n",
    "\n",
    "\n",
    "## Overview\n",
    "\n",
    "The primary task of the project is the creation of an `sklearn` model which will give good predictions on an unseen set of data. The creation of a model and its use on out-of-sample data is, at the end of the day, an important benchmark in the Data Science / Machine Learning process.  \n",
    "\n",
    "The project starts out with an example of the model building process on the synthetic office data-set. This will include creating a hold-out test sample - a technique not yet demonstrated.  \n",
    "\n",
    "After building that model, there will be a review of a couple of the model types available in `sklearn`, and finally you will be asked to pick, train, and submit a model for testing on data to which you do not have access.\n",
    "\n",
    "## Activities in this Project\n",
    "- Fit an `sklearn` model of your choice that will make good predictions on a derived set of data  \n",
    "\n",
    "### The Full Data Science Process"
   ]
  },
  {
   "cell_type": "code",
   "execution_count": 1,
   "metadata": {
    "collapsed": true,
    "deletable": false,
    "editable": false,
    "nbgrader": {
     "grade": false,
     "locked": true,
     "solution": false
    }
   },
   "outputs": [],
   "source": [
    "import pandas as pd\n",
    "import matplotlib.pyplot as plt\n",
    "import numpy as np\n",
    "\n",
    "from sklearn.model_selection import train_test_split\n",
    "from sklearn.tree import DecisionTreeClassifier, DecisionTreeRegressor\n",
    "from sklearn.ensemble import RandomForestClassifier, RandomForestRegressor\n",
    "from sklearn.linear_model import LinearRegression\n",
    "from sklearn.metrics import r2_score\n",
    "\n",
    "%matplotlib inline"
   ]
  },
  {
   "cell_type": "markdown",
   "metadata": {
    "deletable": false,
    "editable": false,
    "nbgrader": {
     "grade": false,
     "locked": true,
     "solution": false
    }
   },
   "source": [
    "**Reading-In and Cleaning Up The Data**  \n"
   ]
  },
  {
   "cell_type": "markdown",
   "metadata": {
    "deletable": false,
    "editable": false,
    "nbgrader": {
     "grade": false,
     "locked": true,
     "solution": false
    }
   },
   "source": [
    "The first thing to do is to take a hold-out set. This is different from the training and testing set in that it will only be used at the very end of our work in order to select between the various modesl that we tuned using the training and testing set.  \n",
    "\n",
    "Using the train/test parlance, the hold-out set might be considered the \"exam\" data. For this we will select 10% of the data."
   ]
  },
  {
   "cell_type": "code",
   "execution_count": 2,
   "metadata": {
    "deletable": false,
    "editable": false,
    "nbgrader": {
     "grade": false,
     "locked": true,
     "solution": false
    }
   },
   "outputs": [
    {
     "data": {
      "text/plain": [
       "array([16177,  6687, 11676,  8850, 24789, 16988, 43580, 24626,  1692,\n",
       "       13685])"
      ]
     },
     "execution_count": 2,
     "metadata": {},
     "output_type": "execute_result"
    }
   ],
   "source": [
    "holdout_path = '../resource/asnlib/publicdata/holdout.csv'\n",
    "# holdout_indicies = np.random.choice(df.index, replace = False, size = round(len(df.index) * .1))\n",
    "# pd.Series(holdout_indicies).to_csv(holdout_path, index = False, header = False)\n",
    "\n",
    "holdout_indicies = pd.read_csv(holdout_path, header= None).values.flatten()\n",
    "holdout_indicies[:10]"
   ]
  },
  {
   "cell_type": "markdown",
   "metadata": {
    "deletable": false,
    "editable": false,
    "nbgrader": {
     "grade": false,
     "locked": true,
     "solution": false
    }
   },
   "source": [
    "With the indicies for the holdout data in hand, we will read in all the data and separate the holdout-data from the training data."
   ]
  },
  {
   "cell_type": "code",
   "execution_count": 3,
   "metadata": {
    "collapsed": true,
    "deletable": false,
    "editable": false,
    "nbgrader": {
     "grade": false,
     "locked": true,
     "solution": false
    }
   },
   "outputs": [],
   "source": [
    "# Read in full data\n",
    "data_path = \"../resource/asnlib/publicdata/office_supply.csv\"\n",
    "full_df = pd.read_csv(data_path)\n",
    "\n",
    "# Separate fitting data from exam data\n",
    "holdout_data = full_df.loc[holdout_indicies, :]\n",
    "training_data = full_df.drop(holdout_indicies, axis = 'rows')"
   ]
  },
  {
   "cell_type": "markdown",
   "metadata": {
    "deletable": false,
    "editable": false,
    "nbgrader": {
     "grade": false,
     "locked": true,
     "solution": false
    }
   },
   "source": [
    "**Below are the functions which will be used to preprocess the data**"
   ]
  },
  {
   "cell_type": "code",
   "execution_count": 4,
   "metadata": {
    "collapsed": true,
    "deletable": false,
    "editable": false,
    "nbgrader": {
     "grade": false,
     "locked": true,
     "solution": false
    }
   },
   "outputs": [],
   "source": [
    "# Function for preprocessing data\n",
    "def office_preprocess(X,y):\n",
    "    # Hard-code lists for dropping and to_bool\n",
    "    # Dropped variables include dates and features with many missing values\n",
    "    to_drop = ['date_of_last_transaction', 'date_of_first_purchase',\n",
    "               'customer_number', 'language',\n",
    "               'last_transaction_channel', 'number_of_employees']\n",
    "    to_bool = ['desk', 'executive_chair', 'standard_chair',\n",
    "               'monitor', 'printer','computer', 'insurance',\n",
    "               'toner', 'office_supplies']\n",
    "    # Hard-code values for notice, auto, and prem\n",
    "    notice = \"NOTICE\"\n",
    "    auto = \"AUTO RENEW\"\n",
    "    prem = \"Premier\"\n",
    "\n",
    "    # Function to convert and fill \"Y/N\" features\n",
    "    def convert_fill_bool(val):\n",
    "        if val == 'Y': return True\n",
    "        else: return False\n",
    "\n",
    "    # Function to encode the service as \"premium\" : true or false\n",
    "    def encode_service(val):\n",
    "        if val == prem: return True\n",
    "        else: return False\n",
    "\n",
    "    # Function to encode the repurchase feature into two columns: \"notice\" true/false and \"auto_renew\" true/false\n",
    "    # \"payment\" plan implied by \"false\" in \"notice\" and \"auto_renew\" columns\n",
    "    def encode_repurchase(series):\n",
    "\n",
    "        def notice_encode(val):\n",
    "            if val == notice: return True\n",
    "            else: return False\n",
    "\n",
    "        def auto_renew_encode(val):\n",
    "            if val == auto: return True\n",
    "            else: return False\n",
    "\n",
    "        ser_notice = series.apply(notice_encode)\n",
    "        ser_notice.name = \"repurchase_notice\"\n",
    "        ser_auto = series.apply(auto_renew_encode)\n",
    "        ser_auto.name = \"repurchase_auto\"\n",
    "\n",
    "        return pd.concat([ser_notice, ser_auto], axis = 'columns')\n",
    "\n",
    "    # Function to transform campaign_period_sales to a float\n",
    "    def transform_target(raw):\n",
    "        # make sure the value is initially cast as a string\n",
    "        raw = str(raw)\n",
    "\n",
    "        # determine if negative or not\n",
    "        if raw.count(\"(\") > 0: sign = -1\n",
    "        else: sign = 1\n",
    "\n",
    "        # remove all spaces, commas, dollar signs, and parentheses\n",
    "        for to_rem in [\" \",\",\",\"$\", \"(\",\")\"]:\n",
    "            raw = raw.replace(to_rem,\"\")\n",
    "        return sign *float(raw)\n",
    "\n",
    "    y_trans = y.apply(transform_target)\n",
    "\n",
    "    X_trans = X.drop(to_drop, axis = 'columns')\n",
    "\n",
    "    for col in to_bool:\n",
    "        X_trans[col] = X_trans[col].apply(convert_fill_bool)\n",
    "\n",
    "    X_trans['premier_service'] = X_trans['service_level'].apply(encode_service)\n",
    "    X_trans.drop('service_level', axis = 'columns', inplace = True)\n",
    "\n",
    "    repurch = encode_repurchase(X_trans['repurchase_method'])\n",
    "    X_trans = pd.concat([X_trans.drop('repurchase_method', axis = 'columns'), repurch], axis = 'columns')\n",
    "\n",
    "    return X_trans, y_trans\n",
    "\n",
    "def rename_columns(df):\n",
    "    df.columns = [col.strip().replace(' ', '_').lower() for col in df.columns]\n",
    "    return df\n",
    "\n",
    "def pull_out_target_pass_to_preprocess(df):\n",
    "    # Pull out target and explanatory variables\n",
    "    X = df.drop('campaign_period_sales', axis = 'columns')\n",
    "    y = df['campaign_period_sales']\n",
    "\n",
    "    X, y = office_preprocess(X,y)\n",
    "\n",
    "    return pd.concat([y,X],axis = 'columns')"
   ]
  },
  {
   "cell_type": "code",
   "execution_count": 5,
   "metadata": {
    "deletable": false,
    "editable": false,
    "nbgrader": {
     "grade": false,
     "locked": true,
     "solution": false
    }
   },
   "outputs": [
    {
     "name": "stdout",
     "output_type": "stream",
     "text": [
      "       campaign_period_sales  number_of_transactions  \\\n",
      "16177                 153.82                      13   \n",
      "\n",
      "       do_not_direct_mail_solicit  do_not_email  do_not_telemarket  \\\n",
      "16177                       False          True              False   \n",
      "\n",
      "       email_available  desk  executive_chair  standard_chair  monitor  \\\n",
      "16177             True  True            False           False    False   \n",
      "\n",
      "       printer  computer  insurance  toner  office_supplies  premier_service  \\\n",
      "16177    False     False      False  False             True             True   \n",
      "\n",
      "       repurchase_notice  repurchase_auto  \n",
      "16177              False             True  \n",
      "   campaign_period_sales  number_of_transactions  do_not_direct_mail_solicit  \\\n",
      "0                 107.16                      20                       False   \n",
      "\n",
      "   do_not_email  do_not_telemarket  email_available   desk  executive_chair  \\\n",
      "0         False              False            False  False            False   \n",
      "\n",
      "   standard_chair  monitor  printer  computer  insurance  toner  \\\n",
      "0           False    False    False     False      False  False   \n",
      "\n",
      "   office_supplies  premier_service  repurchase_notice  repurchase_auto  \n",
      "0             True            False               True            False  \n"
     ]
    }
   ],
   "source": [
    "# Perform pre-processing on both holdout and fitting data\n",
    "holdout_data = rename_columns(holdout_data)\n",
    "holdout_data = pull_out_target_pass_to_preprocess(holdout_data)\n",
    "\n",
    "training_data = rename_columns(training_data)\n",
    "training_data = pull_out_target_pass_to_preprocess(training_data)\n",
    "\n",
    "print(holdout_data.head(1))\n",
    "print(training_data.head(1))"
   ]
  },
  {
   "cell_type": "markdown",
   "metadata": {
    "deletable": false,
    "editable": false,
    "nbgrader": {
     "grade": false,
     "locked": true,
     "solution": false
    }
   },
   "source": [
    "Now we have our holdout data, which will be used for the final evaluation of our model -- indicating precisely how well we believe the model will perform.  \n",
    "\n",
    "To select our model, we need to create our train_test_split. At this point we will separate out our target (y) and our explanatory data (X):"
   ]
  },
  {
   "cell_type": "code",
   "execution_count": 7,
   "metadata": {
    "collapsed": true,
    "deletable": false,
    "editable": false,
    "nbgrader": {
     "grade": false,
     "locked": true,
     "solution": false
    }
   },
   "outputs": [],
   "source": [
    "X = training_data.drop('campaign_period_sales', axis = 'columns')\n",
    "y = training_data['campaign_period_sales']\n",
    "\n",
    "X_train, X_test, y_train, y_test = train_test_split(X, y, test_size = .25)"
   ]
  },
  {
   "cell_type": "markdown",
   "metadata": {
    "deletable": false,
    "editable": false,
    "nbgrader": {
     "grade": false,
     "locked": true,
     "solution": false
    }
   },
   "source": [
    "Finally we can proceed with model building. Our target is a continuous variable - campaign period sales.  "
   ]
  },
  {
   "cell_type": "code",
   "execution_count": null,
   "metadata": {
    "collapsed": true,
    "deletable": false,
    "editable": false,
    "nbgrader": {
     "grade": true,
     "grade_id": "Question 1",
     "locked": true,
     "points": "5",
     "solution": false
    }
   },
   "outputs": [],
   "source": [
    "\n"
   ]
  },
  {
   "cell_type": "markdown",
   "metadata": {
    "deletable": false,
    "editable": false,
    "nbgrader": {
     "grade": false,
     "locked": true,
     "solution": false
    }
   },
   "source": [
    "Below, two tree models and a simple linear regression are fit, and used to predict on our test-set"
   ]
  },
  {
   "cell_type": "code",
   "execution_count": 8,
   "metadata": {
    "deletable": false,
    "editable": false,
    "nbgrader": {
     "grade": false,
     "locked": true,
     "solution": false
    }
   },
   "outputs": [
    {
     "name": "stdout",
     "output_type": "stream",
     "text": [
      "Decision Tree r2 Score: 0.45292288735397995\n",
      "Random Forest r2 Score: 0.49727241250938314\n",
      "Linear Regression r2 Score: 0.4967582153786629\n"
     ]
    }
   ],
   "source": [
    "# Instantiate Model\n",
    "dt = DecisionTreeRegressor()\n",
    "rf = RandomForestRegressor(n_estimators=100)\n",
    "lr = LinearRegression()\n",
    "\n",
    "# Fit Models\n",
    "dt.fit(X_train, y_train)\n",
    "rf.fit(X_train, y_train)\n",
    "lr.fit(X_train, y_train)\n",
    "\n",
    "# Find Score on Testing dAta\n",
    "print(\"Decision Tree r2 Score:\", dt.score(X_test, y_test))\n",
    "print(\"Random Forest r2 Score:\", rf.score(X_test, y_test) )\n",
    "print(\"Linear Regression r2 Score:\", lr.score(X_test, y_test))"
   ]
  },
  {
   "cell_type": "markdown",
   "metadata": {
    "deletable": false,
    "editable": false,
    "nbgrader": {
     "grade": false,
     "locked": true,
     "solution": false
    }
   },
   "source": [
    "Only the Decision tree $R^2$ score looks slightly worse.  \n",
    "\n",
    "Let's decide to use the Random Forest.  \n",
    "\n",
    "The next step will be to fit the Random Forest on both the training and testing data and _then_ we can see how well it performs on the holdout-data"
   ]
  },
  {
   "cell_type": "code",
   "execution_count": 9,
   "metadata": {
    "deletable": false,
    "editable": false,
    "nbgrader": {
     "grade": false,
     "locked": true,
     "solution": false
    }
   },
   "outputs": [
    {
     "data": {
      "text/plain": [
       "0.500787676794062"
      ]
     },
     "execution_count": 9,
     "metadata": {},
     "output_type": "execute_result"
    }
   ],
   "source": [
    "# Fitting model on ALL the training data\n",
    "rf.fit(X,y)\n",
    "\n",
    "# Splitting out target in the holdout data\n",
    "holdout_target = holdout_data['campaign_period_sales']\n",
    "holdout_explanitory = holdout_data.drop('campaign_period_sales', axis = 'columns')\n",
    "\n",
    "# Finding r2 score\n",
    "rf.score(holdout_explanitory, holdout_target)"
   ]
  },
  {
   "cell_type": "markdown",
   "metadata": {
    "deletable": false,
    "editable": false,
    "nbgrader": {
     "grade": false,
     "locked": true,
     "solution": false
    }
   },
   "source": [
    "Notably, our model did not perform markedly better (or worse) on the holdout data. This is actaully a good things. At this point we can be pretty confident that our Random Forest Model will account for between 45 and 50% of the variance in our sales data.  \n",
    "\n",
    "Were the scores to be inconsistent, that would most likely be a sign that the model was getting \"lucky\" on the data being picked in the holdout-set. "
   ]
  },
  {
   "cell_type": "markdown",
   "metadata": {
    "deletable": false,
    "editable": false,
    "nbgrader": {
     "grade": false,
     "locked": true,
     "solution": false
    }
   },
   "source": [
    "### Fitting Models in sklearn  \n",
    "\n",
    "The above section offered a look at the model fitting portion of the data-science process. This section will focus more specifically on the syntax of fitting models in `sklearn`. As was mentioned last week, the syntax is very consistent for all `sklearn` models:  \n",
    "\n",
    "- Step 1: Instantiate the model: `clf = <Model Type>()`  \n",
    "- Step 2: Fit the model: `clf.fit(X_train, y_train)`  \n",
    "- Step 3: Make Predictions or find Score `clf.predict(X_test)` **OR** `clf.score(X_test,y_test)`  \n",
    "\n",
    "#### Step 1: Instantiaing the model  \n",
    "\n",
    "Most `sklearn` models can be instantiated with or without specifying options. However, if you want to look at the available options, you should check out the relevant page in the `sklearn` documentation. [Example: Documentation For Decision Tree Regressor](https://scikit-learn.org/stable/modules/generated/sklearn.tree.DecisionTreeRegressor.html).  \n",
    "\n",
    "Below a decision tree, random forest and linear regression model are instantiated.  \n",
    "\n",
    "Note how a parameter is specified for the random forest."
   ]
  },
  {
   "cell_type": "code",
   "execution_count": 10,
   "metadata": {
    "collapsed": true,
    "deletable": false,
    "editable": false,
    "nbgrader": {
     "grade": false,
     "locked": true,
     "solution": false
    }
   },
   "outputs": [],
   "source": [
    "decision_tree = DecisionTreeRegressor()\n",
    "random_forest = RandomForestRegressor(n_estimators=100)\n",
    "linear_regression = LinearRegression()"
   ]
  },
  {
   "cell_type": "markdown",
   "metadata": {
    "deletable": false,
    "editable": false,
    "nbgrader": {
     "grade": false,
     "locked": true,
     "solution": false
    }
   },
   "source": [
    "At this point, the variables `decision_tree`, `random_forest`, and `linear_regression` hold instances of sklearn models. However these models have not been fitted.  \n",
    "\n",
    "#### Step 2: Fitting the model\n",
    "All `sklearn` models, may be fit with the `.fit()` method.  \n",
    "\n",
    "The `.fit()` method should be fed two parameters, first the explanitory variables (Which must be two-dimensional), and the target (which should be one-dimensional).  \n",
    "\n",
    "Below, the three models are fit with the training data.  \n",
    "\n",
    "The fitting process is the longest, most computationally intensive step.  "
   ]
  },
  {
   "cell_type": "code",
   "execution_count": 11,
   "metadata": {
    "deletable": false,
    "editable": false,
    "nbgrader": {
     "grade": false,
     "locked": true,
     "solution": false
    }
   },
   "outputs": [
    {
     "data": {
      "text/plain": [
       "LinearRegression(copy_X=True, fit_intercept=True, n_jobs=None,\n",
       "         normalize=False)"
      ]
     },
     "execution_count": 11,
     "metadata": {},
     "output_type": "execute_result"
    }
   ],
   "source": [
    "decision_tree.fit(X_train, y_train)\n",
    "random_forest.fit(X_train, y_train)\n",
    "linear_regression.fit(X_train, y_train)"
   ]
  },
  {
   "cell_type": "markdown",
   "metadata": {
    "deletable": false,
    "editable": false,
    "nbgrader": {
     "grade": false,
     "locked": true,
     "solution": false
    }
   },
   "source": [
    "#### Step 3: Predictions and/or Scores  \n",
    "\n",
    "Once the model is fit you may make predictions using the model.  \n",
    "\n",
    "This may be done (expclitily) with the `.predict()` method or (implicitly) with the `.score()` method.  \n",
    "\n",
    "The `.predict()` function takes one argument - a numpy or pandas or array with the same number of columns as the explanitory variables. The output is a vector of predictions for each of those observations.\n",
    "\n",
    "The `.score()` function takes the same array that is given to `.predict()`, and a vector of true values of the target variable. In the case of these regressions, the output will be the $r^2$ score  \n",
    "\n",
    "Below, `.predict()` is used with the `decision_tree`; `.score()` is used with the `linear_regression`.  "
   ]
  },
  {
   "cell_type": "code",
   "execution_count": 12,
   "metadata": {
    "deletable": false,
    "editable": false,
    "nbgrader": {
     "grade": false,
     "locked": true,
     "solution": false
    }
   },
   "outputs": [
    {
     "name": "stdout",
     "output_type": "stream",
     "text": [
      ".predict():  [1970.70166667 1850.4         468.191      ... 3408.25        413.76564286\n",
      "  463.16342105]\n",
      ".score():  0.4967582153786629\n"
     ]
    }
   ],
   "source": [
    "print(\".predict(): \", decision_tree.predict(X_test))\n",
    "print(\".score(): \", linear_regression.score(X_test, y_test))"
   ]
  },
  {
   "cell_type": "markdown",
   "metadata": {
    "deletable": false,
    "editable": false,
    "nbgrader": {
     "grade": false,
     "locked": true,
     "solution": false
    }
   },
   "source": [
    "The few steps above are all you need to complete the next question."
   ]
  },
  {
   "cell_type": "markdown",
   "metadata": {
    "deletable": false,
    "editable": false,
    "nbgrader": {
     "grade": false,
     "locked": true,
     "solution": false
    }
   },
   "source": [
    "### Fitting Our Own Model"
   ]
  },
  {
   "cell_type": "code",
   "execution_count": null,
   "metadata": {
    "collapsed": true
   },
   "outputs": [],
   "source": [
    "\n",
    "### Below is the training and testing data.\n",
    "### In the \"Grading\" portion of this question there is holdout data (which you cannot see / access)\n",
    "### We are creating and training a *regressor* which achieves and r^2 score of\n",
    "### more than .8. \n",
    "\n",
    "### We can use LinearRegression, a DecisionTreeRegressor, RandomForestRegressor or any other Regressor\n",
    "### The regressor MUST implement the `.predict` method (As all sklearn models do)\n",
    "\n",
    "### It is recommended that you train our model using ONLY the training data (X_train and y_train)\n",
    "\n",
    "### At the bottom of this cell is some code which demonstrates how the r^2 score will be calculated\n",
    "### using the \"testing\" data. If we achieve a score of greater than .8 on that test, we pass.\n",
    "\n",
    "### Save regressor to the variable \"reg\"\n",
    "\n",
    "### DATA\n",
    "train_path = \"../resource/asnlib/publicdata/train.csv\"\n",
    "full = pd.read_csv(train_path)\n",
    "\n",
    "X_test = full.loc[0:5400, ['x1','x2']]\n",
    "y_test = full.loc[:5400, 'y']\n",
    "X_train = full.loc[5400:, [\"x1\",\"x2\"]]\n",
    "y_train = full.loc[5400:, \"y\"]\n",
    "\n",
    "### Regression\n",
    "reg = DecisionTreeRegressor()\n",
    "\n",
    "reg.fit(X_test, y_test)\n",
    "\n",
    "\n",
    "### Testing r^2 score\n",
    "preds = reg.predict(X_test)\n",
    "score = r2_score(y_test, preds)\n",
    "print(\"You achieved an r^2 score of\", score, \"on the testing data\")"
   ]
  },
  {
   "cell_type": "code",
   "execution_count": null,
   "metadata": {
    "collapsed": true,
    "deletable": false,
    "editable": false,
    "nbgrader": {
     "grade": true,
     "grade_id": "Fitting Your Model",
     "locked": true,
     "points": "50",
     "solution": false
    }
   },
   "outputs": [],
   "source": [
    "\n"
   ]
  }
 ],
 "metadata": {
  "kernelspec": {
   "display_name": "Python 3",
   "language": "python",
   "name": "python3"
  },
  "language_info": {
   "codemirror_mode": {
    "name": "ipython",
    "version": 3
   },
   "file_extension": ".py",
   "mimetype": "text/x-python",
   "name": "python",
   "nbconvert_exporter": "python",
   "pygments_lexer": "ipython3",
   "version": "3.7.0"
  }
 },
 "nbformat": 4,
 "nbformat_minor": 2
}
